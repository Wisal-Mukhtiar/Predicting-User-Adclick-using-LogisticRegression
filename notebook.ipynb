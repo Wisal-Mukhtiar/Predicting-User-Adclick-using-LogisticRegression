{
 "cells": [
  {
   "cell_type": "markdown",
   "id": "73b376ea",
   "metadata": {},
   "source": [
    "# Predicing user Ad-click using Logistic Regresion"
   ]
  },
  {
   "cell_type": "markdown",
   "id": "b9e9a86f",
   "metadata": {},
   "source": [
    "#### Import libraries"
   ]
  },
  {
   "cell_type": "code",
   "execution_count": 1,
   "id": "ba92906f",
   "metadata": {},
   "outputs": [],
   "source": [
    "import numpy as np\n",
    "import matplotlib.pyplot as plt\n",
    "import pandas as pd\n",
    "import seaborn as sns\n",
    "from sklearn.linear_model import LogisticRegression\n",
    "from sklearn.model_selection import train_test_split\n",
    "from sklearn import metrics"
   ]
  },
  {
   "cell_type": "markdown",
   "id": "3d82fd95",
   "metadata": {},
   "source": [
    "read from the file"
   ]
  },
  {
   "cell_type": "code",
   "execution_count": 2,
   "id": "68772434",
   "metadata": {},
   "outputs": [],
   "source": [
    "df = pd.read_csv('data/advertising.csv')"
   ]
  },
  {
   "cell_type": "code",
   "execution_count": 3,
   "id": "094626e3",
   "metadata": {},
   "outputs": [],
   "source": [
    "plt.style.use('ggplot')"
   ]
  }
 ],
 "metadata": {
  "kernelspec": {
   "display_name": "Python 3 (ipykernel)",
   "language": "python",
   "name": "python3"
  },
  "language_info": {
   "codemirror_mode": {
    "name": "ipython",
    "version": 3
   },
   "file_extension": ".py",
   "mimetype": "text/x-python",
   "name": "python",
   "nbconvert_exporter": "python",
   "pygments_lexer": "ipython3",
   "version": "3.8.13"
  }
 },
 "nbformat": 4,
 "nbformat_minor": 5
}
